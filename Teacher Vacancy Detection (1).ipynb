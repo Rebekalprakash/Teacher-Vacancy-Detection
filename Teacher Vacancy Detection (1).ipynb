{
 "cells": [
  {
   "cell_type": "code",
   "execution_count": 1,
   "id": "c3fe33a9",
   "metadata": {},
   "outputs": [],
   "source": [
    "import pandas as pd\n",
    "import numpy as np"
   ]
  },
  {
   "cell_type": "code",
   "execution_count": 2,
   "id": "91f83ee8",
   "metadata": {
    "scrolled": true
   },
   "outputs": [
    {
     "name": "stdout",
     "output_type": "stream",
     "text": [
      "     S.No    District                        Name Of The School  \\\n",
      "0       1    Namakkal                    Government High School   \n",
      "1       2    Namakkal         Government High School Marurpatti   \n",
      "2       3    Namakkal  Government Girls Higher Secondary School   \n",
      "3       4    Namakkal        Government Higher Secondary School   \n",
      "4       5    Namakkal  Government Girls Higher Secondary School   \n",
      "..    ...         ...                                       ...   \n",
      "530   531  Thiruvarur        Government Higher Secondary School   \n",
      "531   532  Thiruvarur                    Government High School   \n",
      "532   533  Thiruvarur              Govt Higher Secondary School   \n",
      "533   534  Thiruvarur              Government Elementary School   \n",
      "534   535  Thiruvarur            Govt. Hr. Sec school pulivalam   \n",
      "\n",
      "                                 Address Of The School          Subject1  \\\n",
      "0                   Public service & government agency           Physics   \n",
      "1     Public service & government agency\\nMarurpatt...           English   \n",
      "2    Public service & government agency, Education\\...           Physics   \n",
      "3    Public service & government agency, High schoo...  Computer Science   \n",
      "4    High school\\nSentha Mangalam Main Road Kalappa...             Maths   \n",
      "..                                                 ...               ...   \n",
      "530  Thandalai, Thiruvarur, NH-67, Nagappattinam Th...             Maths   \n",
      "531   Virudhachalam, Thiruvarur, SH-23, Palakollai ...           Biology   \n",
      "532  QJ3P+P9H, Main Road, Pulivalam, Thiruvarur, Ta...             Tamil   \n",
      "533   QMC3+3FQ, Marudhappattinam, Thiruvarur, Tamil...           English   \n",
      "534  QJ4P+6HQ, Pulivalam, Thiruvarur, Tamil Nadu 61...             Maths   \n",
      "\n",
      "             Subject2 Vacancy Qualification  \n",
      "0             Physics     Yes          M.Sc  \n",
      "1               Tamil     Yes          B.Sc  \n",
      "2               Tamil      No     B.Sc B.Ed  \n",
      "3               Tamil     Yes     B.Sc B.Ed  \n",
      "4           Chemistry      No     B.Sc B.Ed  \n",
      "..                ...     ...           ...  \n",
      "530             Tamil      No     B.Sc B.Ed  \n",
      "531           English      No     M.Sc B.Ed  \n",
      "532             Maths     Yes          B.Sc  \n",
      "533             Maths     Yes          M.Sc  \n",
      "534  Computer Science     Yes          M.Sc  \n",
      "\n",
      "[535 rows x 8 columns]\n"
     ]
    }
   ],
   "source": [
    "df=pd.read_excel(r\"C:\\Users\\LENOVO\\Desktop\\ds.xlsx\",sheet_name=\"ds\")\n",
    "print(df)"
   ]
  },
  {
   "cell_type": "code",
   "execution_count": 3,
   "id": "c958e039",
   "metadata": {},
   "outputs": [
    {
     "data": {
      "text/html": [
       "<div>\n",
       "<style scoped>\n",
       "    .dataframe tbody tr th:only-of-type {\n",
       "        vertical-align: middle;\n",
       "    }\n",
       "\n",
       "    .dataframe tbody tr th {\n",
       "        vertical-align: top;\n",
       "    }\n",
       "\n",
       "    .dataframe thead th {\n",
       "        text-align: right;\n",
       "    }\n",
       "</style>\n",
       "<table border=\"1\" class=\"dataframe\">\n",
       "  <thead>\n",
       "    <tr style=\"text-align: right;\">\n",
       "      <th></th>\n",
       "      <th>S.No</th>\n",
       "      <th>District</th>\n",
       "      <th>Name Of The School</th>\n",
       "      <th>Address Of The School</th>\n",
       "      <th>Subject1</th>\n",
       "      <th>Subject2</th>\n",
       "      <th>Vacancy</th>\n",
       "      <th>Qualification</th>\n",
       "    </tr>\n",
       "  </thead>\n",
       "  <tbody>\n",
       "    <tr>\n",
       "      <th>0</th>\n",
       "      <td>1</td>\n",
       "      <td>Namakkal</td>\n",
       "      <td>Government High School</td>\n",
       "      <td>Public service &amp; government agency</td>\n",
       "      <td>Physics</td>\n",
       "      <td>Physics</td>\n",
       "      <td>Yes</td>\n",
       "      <td>M.Sc</td>\n",
       "    </tr>\n",
       "    <tr>\n",
       "      <th>1</th>\n",
       "      <td>2</td>\n",
       "      <td>Namakkal</td>\n",
       "      <td>Government High School Marurpatti</td>\n",
       "      <td>Public service &amp; government agency\\nMarurpatt...</td>\n",
       "      <td>English</td>\n",
       "      <td>Tamil</td>\n",
       "      <td>Yes</td>\n",
       "      <td>B.Sc</td>\n",
       "    </tr>\n",
       "    <tr>\n",
       "      <th>2</th>\n",
       "      <td>3</td>\n",
       "      <td>Namakkal</td>\n",
       "      <td>Government Girls Higher Secondary School</td>\n",
       "      <td>Public service &amp; government agency, Education\\...</td>\n",
       "      <td>Physics</td>\n",
       "      <td>Tamil</td>\n",
       "      <td>No</td>\n",
       "      <td>B.Sc B.Ed</td>\n",
       "    </tr>\n",
       "    <tr>\n",
       "      <th>3</th>\n",
       "      <td>4</td>\n",
       "      <td>Namakkal</td>\n",
       "      <td>Government Higher Secondary School</td>\n",
       "      <td>Public service &amp; government agency, High schoo...</td>\n",
       "      <td>Computer Science</td>\n",
       "      <td>Tamil</td>\n",
       "      <td>Yes</td>\n",
       "      <td>B.Sc B.Ed</td>\n",
       "    </tr>\n",
       "    <tr>\n",
       "      <th>4</th>\n",
       "      <td>5</td>\n",
       "      <td>Namakkal</td>\n",
       "      <td>Government Girls Higher Secondary School</td>\n",
       "      <td>High school\\nSentha Mangalam Main Road Kalappa...</td>\n",
       "      <td>Maths</td>\n",
       "      <td>Chemistry</td>\n",
       "      <td>No</td>\n",
       "      <td>B.Sc B.Ed</td>\n",
       "    </tr>\n",
       "    <tr>\n",
       "      <th>5</th>\n",
       "      <td>6</td>\n",
       "      <td>Ariyalur</td>\n",
       "      <td>Government High School Nallamapalayam</td>\n",
       "      <td>High school\\nNallampalayam, Ariyalur</td>\n",
       "      <td>Biology</td>\n",
       "      <td>Biology</td>\n",
       "      <td>No</td>\n",
       "      <td>M.Sc B.Ed</td>\n",
       "    </tr>\n",
       "    <tr>\n",
       "      <th>6</th>\n",
       "      <td>7</td>\n",
       "      <td>Ariyalur</td>\n",
       "      <td>Government High School Siruvalur</td>\n",
       "      <td>1st Cross Street, Ariyalur</td>\n",
       "      <td>Chemistry</td>\n",
       "      <td>Chemistry</td>\n",
       "      <td>No</td>\n",
       "      <td>M.Sc</td>\n",
       "    </tr>\n",
       "    <tr>\n",
       "      <th>7</th>\n",
       "      <td>8</td>\n",
       "      <td>Ariyalur</td>\n",
       "      <td>Government Higher Secondary School</td>\n",
       "      <td>High school\\nSh27, Perambalur Ariyalur Road, K...</td>\n",
       "      <td>English</td>\n",
       "      <td>English</td>\n",
       "      <td>No</td>\n",
       "      <td>B.Sc</td>\n",
       "    </tr>\n",
       "    <tr>\n",
       "      <th>8</th>\n",
       "      <td>9</td>\n",
       "      <td>Ariyalur</td>\n",
       "      <td>Government High School Paranam</td>\n",
       "      <td>Education\\nParanam, Udayarpalayam</td>\n",
       "      <td>Physics</td>\n",
       "      <td>Maths</td>\n",
       "      <td>Yes</td>\n",
       "      <td>B.Sc B.Ed</td>\n",
       "    </tr>\n",
       "    <tr>\n",
       "      <th>9</th>\n",
       "      <td>10</td>\n",
       "      <td>Chengalpattu</td>\n",
       "      <td>Government High School Oragadam</td>\n",
       "      <td>Oragadam, Chengalpattu</td>\n",
       "      <td>Physics</td>\n",
       "      <td>Maths</td>\n",
       "      <td>Yes</td>\n",
       "      <td>M.Sc</td>\n",
       "    </tr>\n",
       "  </tbody>\n",
       "</table>\n",
       "</div>"
      ],
      "text/plain": [
       "   S.No      District                        Name Of The School  \\\n",
       "0     1      Namakkal                    Government High School   \n",
       "1     2      Namakkal         Government High School Marurpatti   \n",
       "2     3      Namakkal  Government Girls Higher Secondary School   \n",
       "3     4      Namakkal        Government Higher Secondary School   \n",
       "4     5      Namakkal  Government Girls Higher Secondary School   \n",
       "5     6      Ariyalur     Government High School Nallamapalayam   \n",
       "6     7      Ariyalur          Government High School Siruvalur   \n",
       "7     8      Ariyalur        Government Higher Secondary School   \n",
       "8     9      Ariyalur            Government High School Paranam   \n",
       "9    10  Chengalpattu           Government High School Oragadam   \n",
       "\n",
       "                               Address Of The School          Subject1  \\\n",
       "0                 Public service & government agency           Physics   \n",
       "1   Public service & government agency\\nMarurpatt...           English   \n",
       "2  Public service & government agency, Education\\...           Physics   \n",
       "3  Public service & government agency, High schoo...  Computer Science   \n",
       "4  High school\\nSentha Mangalam Main Road Kalappa...             Maths   \n",
       "5               High school\\nNallampalayam, Ariyalur           Biology   \n",
       "6                         1st Cross Street, Ariyalur         Chemistry   \n",
       "7  High school\\nSh27, Perambalur Ariyalur Road, K...           English   \n",
       "8                  Education\\nParanam, Udayarpalayam           Physics   \n",
       "9                             Oragadam, Chengalpattu           Physics   \n",
       "\n",
       "    Subject2 Vacancy Qualification  \n",
       "0    Physics     Yes          M.Sc  \n",
       "1      Tamil     Yes          B.Sc  \n",
       "2      Tamil      No     B.Sc B.Ed  \n",
       "3      Tamil     Yes     B.Sc B.Ed  \n",
       "4  Chemistry      No     B.Sc B.Ed  \n",
       "5    Biology      No     M.Sc B.Ed  \n",
       "6  Chemistry      No          M.Sc  \n",
       "7    English      No          B.Sc  \n",
       "8      Maths     Yes     B.Sc B.Ed  \n",
       "9      Maths     Yes          M.Sc  "
      ]
     },
     "execution_count": 3,
     "metadata": {},
     "output_type": "execute_result"
    }
   ],
   "source": [
    "df.head(10)"
   ]
  },
  {
   "cell_type": "code",
   "execution_count": 4,
   "id": "ea306cb5",
   "metadata": {},
   "outputs": [
    {
     "data": {
      "text/plain": [
       "Index(['S.No', 'District', 'Name Of The School', 'Address Of The School',\n",
       "       'Subject1', 'Subject2', 'Vacancy', 'Qualification'],\n",
       "      dtype='object')"
      ]
     },
     "execution_count": 4,
     "metadata": {},
     "output_type": "execute_result"
    }
   ],
   "source": [
    "df.columns\n"
   ]
  },
  {
   "cell_type": "code",
   "execution_count": 5,
   "id": "f45868c4",
   "metadata": {},
   "outputs": [
    {
     "data": {
      "text/plain": [
       "(535, 8)"
      ]
     },
     "execution_count": 5,
     "metadata": {},
     "output_type": "execute_result"
    }
   ],
   "source": [
    "df.shape\n"
   ]
  },
  {
   "cell_type": "code",
   "execution_count": 6,
   "id": "c6456b72",
   "metadata": {},
   "outputs": [
    {
     "name": "stdout",
     "output_type": "stream",
     "text": [
      "<class 'pandas.core.frame.DataFrame'>\n",
      "RangeIndex: 535 entries, 0 to 534\n",
      "Data columns (total 8 columns):\n",
      " #   Column                 Non-Null Count  Dtype \n",
      "---  ------                 --------------  ----- \n",
      " 0   S.No                   535 non-null    int64 \n",
      " 1   District               531 non-null    object\n",
      " 2   Name Of The School     535 non-null    object\n",
      " 3   Address Of The School  535 non-null    object\n",
      " 4   Subject1               535 non-null    object\n",
      " 5   Subject2               535 non-null    object\n",
      " 6   Vacancy                535 non-null    object\n",
      " 7   Qualification          535 non-null    object\n",
      "dtypes: int64(1), object(7)\n",
      "memory usage: 33.6+ KB\n"
     ]
    }
   ],
   "source": [
    "df.info()"
   ]
  },
  {
   "cell_type": "markdown",
   "id": "0c5584ce",
   "metadata": {},
   "source": [
    "# ANALYZING CATEGORICAL VARIABLES"
   ]
  },
  {
   "cell_type": "code",
   "execution_count": 7,
   "id": "47fb2b8b",
   "metadata": {},
   "outputs": [
    {
     "name": "stdout",
     "output_type": "stream",
     "text": [
      "There are 7 categorical variables\n",
      "The categorical variables are : ['District', 'Name Of The School', 'Address Of The School', 'Subject1', 'Subject2', 'Vacancy', 'Qualification']\n"
     ]
    }
   ],
   "source": [
    "categorical = [var for var in df.columns if df[var].dtype=='O']\n",
    "print('There are {} categorical variables'.format(len(categorical)))\n",
    "print('The categorical variables are :', categorical)"
   ]
  },
  {
   "cell_type": "markdown",
   "id": "8a624830",
   "metadata": {},
   "source": [
    "# CHECKING NULL VALUES"
   ]
  },
  {
   "cell_type": "code",
   "execution_count": 8,
   "id": "8504d7f0",
   "metadata": {},
   "outputs": [
    {
     "data": {
      "text/plain": [
       "District                 4\n",
       "Name Of The School       0\n",
       "Address Of The School    0\n",
       "Subject1                 0\n",
       "Subject2                 0\n",
       "Vacancy                  0\n",
       "Qualification            0\n",
       "dtype: int64"
      ]
     },
     "execution_count": 8,
     "metadata": {},
     "output_type": "execute_result"
    }
   ],
   "source": [
    "df[categorical].isnull().sum()"
   ]
  },
  {
   "cell_type": "markdown",
   "id": "3da4efe0",
   "metadata": {},
   "source": [
    "# Frequency count of variables in categorical variables"
   ]
  },
  {
   "cell_type": "code",
   "execution_count": 9,
   "id": "8c4838c2",
   "metadata": {},
   "outputs": [
    {
     "name": "stdout",
     "output_type": "stream",
     "text": [
      "Madurai         35\n",
      "Tirunelveli     35\n",
      "Thoothukudi     35\n",
      "Thanjavur       35\n",
      "Erode           31\n",
      "Coimbatore      30\n",
      "Kancheepuram    30\n",
      "Karur           30\n",
      "Salem           30\n",
      "Kanyakumari     30\n",
      "Nagapatinam     25\n",
      "Theni           25\n",
      "Namakkal        25\n",
      "Dharamapuri     25\n",
      "Cuddalore       25\n",
      "Thiruvarur      25\n",
      "Ariyalur        20\n",
      "Tenkasi         20\n",
      "Chengalpattu    15\n",
      "Dindigul         5\n",
      "Name: District, dtype: int64\n",
      "Madurai         0.065421\n",
      "Tirunelveli     0.065421\n",
      "Thoothukudi     0.065421\n",
      "Thanjavur       0.065421\n",
      "Erode           0.057944\n",
      "Coimbatore      0.056075\n",
      "Kancheepuram    0.056075\n",
      "Karur           0.056075\n",
      "Salem           0.056075\n",
      "Kanyakumari     0.056075\n",
      "Nagapatinam     0.046729\n",
      "Theni           0.046729\n",
      "Namakkal        0.046729\n",
      "Dharamapuri     0.046729\n",
      "Cuddalore       0.046729\n",
      "Thiruvarur      0.046729\n",
      "Ariyalur        0.037383\n",
      "Tenkasi         0.037383\n",
      "Chengalpattu    0.028037\n",
      "Dindigul        0.009346\n",
      "Name: District, dtype: float64\n",
      "\n",
      "Government Higher Secondary School          100\n",
      "Government Girls Higher Secondary School     30\n",
      "Government High School                       25\n",
      "Government Primary School                    25\n",
      "Government Boys Higher Secondary School      15\n",
      "                                           ... \n",
      "Masthaanpatti Government School               5\n",
      "Government Higher Secondary school            5\n",
      "Government High School Marurpatti             5\n",
      "Gov Hig Sec School Otraiyalvilai              5\n",
      "Govt. Hr. Sec school pulivalam                5\n",
      "Name: Name Of The School, Length: 68, dtype: int64\n",
      "Government Higher Secondary School          0.186916\n",
      "Government Girls Higher Secondary School    0.056075\n",
      "Government High School                      0.046729\n",
      "Government Primary School                   0.046729\n",
      "Government Boys Higher Secondary School     0.028037\n",
      "                                              ...   \n",
      "Masthaanpatti Government School             0.009346\n",
      "Government Higher Secondary school          0.009346\n",
      "Government High School Marurpatti           0.009346\n",
      "Gov Hig Sec School Otraiyalvilai            0.009346\n",
      "Govt. Hr. Sec school pulivalam              0.009346\n",
      "Name: Name Of The School, Length: 68, dtype: float64\n",
      "\n",
      "Public service & government agency                                                                        5\n",
      "Q4RP+7PQ, Rajakrisnapuram, Inathukanpatti, Tamil Nadu 613001                                              5\n",
      " P46J+7Q4, Thanjavur Rd, Karunavathi Nagar, Teachers Colony, Nanjikottai, Thanjavur, Tamil Nadu 613006    5\n",
      "Q4HH+9J7, Membalam, Thanjavur, Tamil Nadu 613007                                                          5\n",
      "Q482+R2M, anthoniar kovil street, manojipatti, Thanjavur, Tamil Nadu 613004                               5\n",
      "                                                                                                         ..\n",
      " 9P64+P35, Annai Sathya Nagar, Erode, Tamil Nadu 638004                                                   5\n",
      " 15B, Radhakrishnan street, 1st St, Noal Road, Manickam Palayam, Tamil Nadu 638009                        5\n",
      "CSI Institutions Campus, Chidambaram Colony, Erode, Tamil Nadu 638001                                     5\n",
      " 8PR8+FHR, Nasiyanur Rd, Municipal Colony, Edayankattuvalasu, Erode, Tamil Nadu 638009                    5\n",
      "QJ4P+6HQ, Pulivalam, Thiruvarur, Tamil Nadu 610109                                                        5\n",
      "Name: Address Of The School, Length: 107, dtype: int64\n",
      "Public service & government agency                                                                        0.009346\n",
      "Q4RP+7PQ, Rajakrisnapuram, Inathukanpatti, Tamil Nadu 613001                                              0.009346\n",
      " P46J+7Q4, Thanjavur Rd, Karunavathi Nagar, Teachers Colony, Nanjikottai, Thanjavur, Tamil Nadu 613006    0.009346\n",
      "Q4HH+9J7, Membalam, Thanjavur, Tamil Nadu 613007                                                          0.009346\n",
      "Q482+R2M, anthoniar kovil street, manojipatti, Thanjavur, Tamil Nadu 613004                               0.009346\n",
      "                                                                                                            ...   \n",
      " 9P64+P35, Annai Sathya Nagar, Erode, Tamil Nadu 638004                                                   0.009346\n",
      " 15B, Radhakrishnan street, 1st St, Noal Road, Manickam Palayam, Tamil Nadu 638009                        0.009346\n",
      "CSI Institutions Campus, Chidambaram Colony, Erode, Tamil Nadu 638001                                     0.009346\n",
      " 8PR8+FHR, Nasiyanur Rd, Municipal Colony, Edayankattuvalasu, Erode, Tamil Nadu 638009                    0.009346\n",
      "QJ4P+6HQ, Pulivalam, Thiruvarur, Tamil Nadu 610109                                                        0.009346\n",
      "Name: Address Of The School, Length: 107, dtype: float64\n",
      "\n",
      "Physics             91\n",
      "Tamil               85\n",
      "Chemistry           80\n",
      "Computer Science    77\n",
      "Maths               72\n",
      "English             71\n",
      "Biology             59\n",
      "Name: Subject1, dtype: int64\n",
      "Physics             0.170093\n",
      "Tamil               0.158879\n",
      "Chemistry           0.149533\n",
      "Computer Science    0.143925\n",
      "Maths               0.134579\n",
      "English             0.132710\n",
      "Biology             0.110280\n",
      "Name: Subject1, dtype: float64\n",
      "\n",
      "Biology             87\n",
      "Physics             77\n",
      "Chemistry           77\n",
      "Maths               77\n",
      "English             75\n",
      "Tamil               71\n",
      "Computer Science    71\n",
      "Name: Subject2, dtype: int64\n",
      "Biology             0.162617\n",
      "Physics             0.143925\n",
      "Chemistry           0.143925\n",
      "Maths               0.143925\n",
      "English             0.140187\n",
      "Tamil               0.132710\n",
      "Computer Science    0.132710\n",
      "Name: Subject2, dtype: float64\n",
      "\n",
      "No     271\n",
      "Yes    264\n",
      "Name: Vacancy, dtype: int64\n",
      "No     0.506542\n",
      "Yes    0.493458\n",
      "Name: Vacancy, dtype: float64\n",
      "\n",
      "M.Sc B.Ed    157\n",
      "M.Sc         136\n",
      "B.Sc B.Ed    129\n",
      "B.Sc         113\n",
      "Name: Qualification, dtype: int64\n",
      "M.Sc B.Ed    0.293458\n",
      "M.Sc         0.254206\n",
      "B.Sc B.Ed    0.241121\n",
      "B.Sc         0.211215\n",
      "Name: Qualification, dtype: float64\n",
      "\n"
     ]
    },
    {
     "name": "stderr",
     "output_type": "stream",
     "text": [
      "C:\\Users\\LENOVO\\AppData\\Local\\Temp/ipykernel_3808/306681985.py:3: DeprecationWarning: `np.float` is a deprecated alias for the builtin `float`. To silence this warning, use `float` by itself. Doing this will not modify any behavior and is safe. If you specifically wanted the numpy scalar type, use `np.float64` here.\n",
      "Deprecated in NumPy 1.20; for more details and guidance: https://numpy.org/devdocs/release/1.20.0-notes.html#deprecations\n",
      "  print(df[var].value_counts()/np.float(len(df)))\n"
     ]
    }
   ],
   "source": [
    "for var in categorical: \n",
    "    print(df[var].value_counts())\n",
    "    print(df[var].value_counts()/np.float(len(df)))\n",
    "    print()\n"
   ]
  },
  {
   "cell_type": "markdown",
   "id": "f7cd31e5",
   "metadata": {},
   "source": [
    "# check for cardinality in categorical variables"
   ]
  },
  {
   "cell_type": "code",
   "execution_count": 10,
   "id": "a7002a8e",
   "metadata": {},
   "outputs": [
    {
     "name": "stdout",
     "output_type": "stream",
     "text": [
      "District  contains  21  labels\n",
      "Name Of The School  contains  68  labels\n",
      "Address Of The School  contains  107  labels\n",
      "Subject1  contains  7  labels\n",
      "Subject2  contains  7  labels\n",
      "Vacancy  contains  2  labels\n",
      "Qualification  contains  4  labels\n"
     ]
    }
   ],
   "source": [
    "for var in categorical:\n",
    "    print(var, ' contains ', len(df[var].unique()), ' labels')"
   ]
  },
  {
   "cell_type": "markdown",
   "id": "c650b6c5",
   "metadata": {},
   "source": [
    "# LABEL ENCODING"
   ]
  },
  {
   "cell_type": "code",
   "execution_count": 11,
   "id": "6a4314f7",
   "metadata": {},
   "outputs": [
    {
     "data": {
      "text/html": [
       "<div>\n",
       "<style scoped>\n",
       "    .dataframe tbody tr th:only-of-type {\n",
       "        vertical-align: middle;\n",
       "    }\n",
       "\n",
       "    .dataframe tbody tr th {\n",
       "        vertical-align: top;\n",
       "    }\n",
       "\n",
       "    .dataframe thead th {\n",
       "        text-align: right;\n",
       "    }\n",
       "</style>\n",
       "<table border=\"1\" class=\"dataframe\">\n",
       "  <thead>\n",
       "    <tr style=\"text-align: right;\">\n",
       "      <th></th>\n",
       "      <th>S.No</th>\n",
       "      <th>District</th>\n",
       "      <th>Name Of The School</th>\n",
       "      <th>Address Of The School</th>\n",
       "      <th>Subject1</th>\n",
       "      <th>Subject2</th>\n",
       "      <th>Vacancy</th>\n",
       "      <th>Qualification</th>\n",
       "    </tr>\n",
       "  </thead>\n",
       "  <tbody>\n",
       "    <tr>\n",
       "      <th>0</th>\n",
       "      <td>1</td>\n",
       "      <td>12</td>\n",
       "      <td>Government High School</td>\n",
       "      <td>Public service &amp; government agency</td>\n",
       "      <td>5</td>\n",
       "      <td>5</td>\n",
       "      <td>1</td>\n",
       "      <td>2</td>\n",
       "    </tr>\n",
       "    <tr>\n",
       "      <th>1</th>\n",
       "      <td>2</td>\n",
       "      <td>12</td>\n",
       "      <td>Government High School Marurpatti</td>\n",
       "      <td>Public service &amp; government agency\\nMarurpatt...</td>\n",
       "      <td>3</td>\n",
       "      <td>6</td>\n",
       "      <td>1</td>\n",
       "      <td>0</td>\n",
       "    </tr>\n",
       "    <tr>\n",
       "      <th>2</th>\n",
       "      <td>3</td>\n",
       "      <td>12</td>\n",
       "      <td>Government Girls Higher Secondary School</td>\n",
       "      <td>Public service &amp; government agency, Education\\...</td>\n",
       "      <td>5</td>\n",
       "      <td>6</td>\n",
       "      <td>0</td>\n",
       "      <td>1</td>\n",
       "    </tr>\n",
       "    <tr>\n",
       "      <th>3</th>\n",
       "      <td>4</td>\n",
       "      <td>12</td>\n",
       "      <td>Government Higher Secondary School</td>\n",
       "      <td>Public service &amp; government agency, High schoo...</td>\n",
       "      <td>2</td>\n",
       "      <td>6</td>\n",
       "      <td>1</td>\n",
       "      <td>1</td>\n",
       "    </tr>\n",
       "    <tr>\n",
       "      <th>4</th>\n",
       "      <td>5</td>\n",
       "      <td>12</td>\n",
       "      <td>Government Girls Higher Secondary School</td>\n",
       "      <td>High school\\nSentha Mangalam Main Road Kalappa...</td>\n",
       "      <td>4</td>\n",
       "      <td>1</td>\n",
       "      <td>0</td>\n",
       "      <td>1</td>\n",
       "    </tr>\n",
       "  </tbody>\n",
       "</table>\n",
       "</div>"
      ],
      "text/plain": [
       "   S.No  District                        Name Of The School  \\\n",
       "0     1        12                    Government High School   \n",
       "1     2        12         Government High School Marurpatti   \n",
       "2     3        12  Government Girls Higher Secondary School   \n",
       "3     4        12        Government Higher Secondary School   \n",
       "4     5        12  Government Girls Higher Secondary School   \n",
       "\n",
       "                               Address Of The School  Subject1  Subject2  \\\n",
       "0                 Public service & government agency         5         5   \n",
       "1   Public service & government agency\\nMarurpatt...         3         6   \n",
       "2  Public service & government agency, Education\\...         5         6   \n",
       "3  Public service & government agency, High schoo...         2         6   \n",
       "4  High school\\nSentha Mangalam Main Road Kalappa...         4         1   \n",
       "\n",
       "   Vacancy  Qualification  \n",
       "0        1              2  \n",
       "1        1              0  \n",
       "2        0              1  \n",
       "3        1              1  \n",
       "4        0              1  "
      ]
     },
     "execution_count": 11,
     "metadata": {},
     "output_type": "execute_result"
    }
   ],
   "source": [
    "from sklearn import preprocessing \n",
    "label_encoder = preprocessing.LabelEncoder() \n",
    "\n",
    "df['District'] = label_encoder.fit_transform(df['District'])\n",
    "df['Subject1'] = label_encoder.fit_transform(df['Subject1'])\n",
    "df['Subject2'] = label_encoder.fit_transform(df['Subject2'])\n",
    "df['Vacancy'] = label_encoder.fit_transform(df['Vacancy'])\n",
    "df['Qualification'] = label_encoder.fit_transform(df['Qualification'])\n",
    " \n",
    "df.head()"
   ]
  },
  {
   "cell_type": "markdown",
   "id": "57492057",
   "metadata": {},
   "source": [
    "# TRAIN TEST SPLIT"
   ]
  },
  {
   "cell_type": "code",
   "execution_count": 12,
   "id": "ca01fa6f",
   "metadata": {},
   "outputs": [],
   "source": [
    "X = df.drop(['Vacancy','Name Of The School','Address Of The School','S.No','Name Of The School'], axis=1)\n",
    "y = df['Vacancy']"
   ]
  },
  {
   "cell_type": "code",
   "execution_count": 13,
   "id": "ffc78146",
   "metadata": {},
   "outputs": [
    {
     "name": "stdout",
     "output_type": "stream",
     "text": [
      "     District  Subject1  Subject2  Qualification\n",
      "0          12         5         5              2\n",
      "1          12         3         6              0\n",
      "2          12         5         6              1\n",
      "3          12         2         6              1\n",
      "4          12         4         1              1\n",
      "..        ...       ...       ...            ...\n",
      "530        17         4         6              1\n",
      "531        17         0         3              3\n",
      "532        17         6         4              0\n",
      "533        17         3         4              2\n",
      "534        17         4         2              2\n",
      "\n",
      "[535 rows x 4 columns]\n"
     ]
    }
   ],
   "source": [
    "print(X)"
   ]
  },
  {
   "cell_type": "code",
   "execution_count": 14,
   "id": "c823028e",
   "metadata": {},
   "outputs": [
    {
     "name": "stdout",
     "output_type": "stream",
     "text": [
      "0      1\n",
      "1      1\n",
      "2      0\n",
      "3      1\n",
      "4      0\n",
      "      ..\n",
      "530    0\n",
      "531    0\n",
      "532    1\n",
      "533    1\n",
      "534    1\n",
      "Name: Vacancy, Length: 535, dtype: int32\n"
     ]
    }
   ],
   "source": [
    "print(y)"
   ]
  },
  {
   "cell_type": "code",
   "execution_count": 45,
   "id": "03b8027b",
   "metadata": {},
   "outputs": [
    {
     "data": {
      "text/plain": [
       "((428, 4), (107, 4))"
      ]
     },
     "execution_count": 45,
     "metadata": {},
     "output_type": "execute_result"
    }
   ],
   "source": [
    "from sklearn.model_selection import train_test_split\n",
    "X_train, X_test, y_train, y_test = train_test_split(X, y, test_size = 0.2, random_state = 999)\n",
    "X_train.shape, X_test.shape"
   ]
  },
  {
   "cell_type": "markdown",
   "id": "2b86deba",
   "metadata": {},
   "source": [
    "# DECISION TREE"
   ]
  },
  {
   "cell_type": "code",
   "execution_count": 46,
   "id": "82c981bb",
   "metadata": {},
   "outputs": [],
   "source": [
    "from sklearn.tree import DecisionTreeClassifier\n",
    "import matplotlib.pyplot as plt\n",
    "from sklearn.tree import plot_tree"
   ]
  },
  {
   "cell_type": "code",
   "execution_count": 47,
   "id": "7673e7f9",
   "metadata": {},
   "outputs": [],
   "source": [
    "dtc = DecisionTreeClassifier(criterion=\"gini\", max_depth=5, random_state=42)\n",
    "dtc.fit(X_train, y_train)\n",
    "y_pred = dtc.predict(X_test)\n",
    "\n"
   ]
  },
  {
   "cell_type": "code",
   "execution_count": 48,
   "id": "bbfba99d",
   "metadata": {},
   "outputs": [
    {
     "data": {
      "image/png": "[encoded data removed]",
      "text/plain": [
       "<Figure size 1440x576 with 1 Axes>"
      ]
     },
     "metadata": {
      "needs_background": "light"
     },
     "output_type": "display_data"
    }
   ],
   "source": [
    "# Plot the Decision Tree\n",
    "plt.figure(figsize=(20, 8))\n",
    "plot_tree(dtc, filled=True)\n",
    "plt.show()"
   ]
  },
  {
   "cell_type": "code",
   "execution_count": 49,
   "id": "1d7fcc6c",
   "metadata": {},
   "outputs": [
    {
     "name": "stdout",
     "output_type": "stream",
     "text": [
      "No\n"
     ]
    }
   ],
   "source": [
    "inp=[[17,4,6,1]]\n",
    "y_pred8=dtc.predict(inp)\n",
    "if y_pred8==1:\n",
    "    print(\"Yes\")\n",
    "else:\n",
    "    print(\"No\")"
   ]
  },
  {
   "cell_type": "code",
   "execution_count": 50,
   "id": "2968240c",
   "metadata": {},
   "outputs": [],
   "source": [
    "import pickle\n",
    "\n",
    "# Train your model\n",
    "dtc.fit(X_train, y_train)\n",
    "\n",
    "# Save your model to a file\n",
    "with open('rebe.pkl', 'wb') as file:\n",
    "    pickle.dump(dtc, file)"
   ]
  },
  {
   "cell_type": "code",
   "execution_count": 51,
   "id": "38220763",
   "metadata": {},
   "outputs": [
    {
     "name": "stdout",
     "output_type": "stream",
     "text": [
      "[1]\n"
     ]
    }
   ],
   "source": [
    "import pickle\n",
    "with open('rebe.pkl', 'rb') as file:\n",
    "    model = pickle.load(file)\n",
    "    \n",
    "inp=[[12,5,5,2]]\n",
    "y_pred8=dtc.predict(inp)\n",
    "\n",
    "    # Use the model to make predictions\n",
    "print(y_pred8)"
   ]
  },
  {
   "cell_type": "code",
   "execution_count": 26,
   "id": "bbddfdcd",
   "metadata": {},
   "outputs": [
    {
     "data": {
      "text/plain": [
       "array([12,  0,  1,  2,  3,  4,  5,  6, 20,  7,  9, 10,  8, 11, 13, 14, 15,\n",
       "       16, 18, 19, 17])"
      ]
     },
     "execution_count": 26,
     "metadata": {},
     "output_type": "execute_result"
    }
   ],
   "source": [
    "df['District'].unique()"
   ]
  },
  {
   "cell_type": "code",
   "execution_count": 29,
   "id": "2625cb9f",
   "metadata": {},
   "outputs": [],
   "source": [
    "df['encoded'] = label_encoder.fit_transform(df['District'].values)"
   ]
  },
  {
   "cell_type": "code",
   "execution_count": 30,
   "id": "e1c52fc1",
   "metadata": {},
   "outputs": [],
   "source": [
    "ds=df['District']"
   ]
  },
  {
   "cell_type": "code",
   "execution_count": 31,
   "id": "37ab6b2a",
   "metadata": {},
   "outputs": [
    {
     "data": {
      "text/plain": [
       "0      12\n",
       "1      12\n",
       "2      12\n",
       "3      12\n",
       "4      12\n",
       "       ..\n",
       "530    17\n",
       "531    17\n",
       "532    17\n",
       "533    17\n",
       "534    17\n",
       "Name: District, Length: 535, dtype: int32"
      ]
     },
     "execution_count": 31,
     "metadata": {},
     "output_type": "execute_result"
    }
   ],
   "source": [
    "ds"
   ]
  },
  {
   "cell_type": "code",
   "execution_count": 32,
   "id": "4dde0a9a",
   "metadata": {},
   "outputs": [
    {
     "data": {
      "text/plain": [
       "0      5\n",
       "1      3\n",
       "2      5\n",
       "3      2\n",
       "4      4\n",
       "      ..\n",
       "530    4\n",
       "531    0\n",
       "532    6\n",
       "533    3\n",
       "534    4\n",
       "Name: Subject1, Length: 535, dtype: int32"
      ]
     },
     "execution_count": 32,
     "metadata": {},
     "output_type": "execute_result"
    }
   ],
   "source": [
    "gf=df['Subject1']\n",
    "gf"
   ]
  },
  {
   "cell_type": "code",
   "execution_count": 33,
   "id": "e917f0b8",
   "metadata": {},
   "outputs": [
    {
     "data": {
      "text/plain": [
       "0      2\n",
       "1      0\n",
       "2      1\n",
       "3      1\n",
       "4      1\n",
       "      ..\n",
       "530    1\n",
       "531    3\n",
       "532    0\n",
       "533    2\n",
       "534    2\n",
       "Name: Qualification, Length: 535, dtype: int32"
      ]
     },
     "execution_count": 33,
     "metadata": {},
     "output_type": "execute_result"
    }
   ],
   "source": [
    "bf=df['Qualification']\n",
    "bf"
   ]
  },
  {
   "cell_type": "code",
   "execution_count": null,
   "id": "430e4503",
   "metadata": {},
   "outputs": [],
   "source": []
  },
  {
   "cell_type": "code",
   "execution_count": null,
   "id": "8a4b8479",
   "metadata": {},
   "outputs": [],
   "source": []
  }
 ],
 "metadata": {
  "kernelspec": {
   "display_name": "Python 3 (ipykernel)",
   "language": "python",
   "name": "python3"
  },
  "language_info": {
   "codemirror_mode": {
    "name": "ipython",
    "version": 3
   },
   "file_extension": ".py",
   "mimetype": "text/x-python",
   "name": "python",
   "nbconvert_exporter": "python",
   "pygments_lexer": "ipython3",
   "version": "3.9.7"
  },
  "widgets": {
   "application/vnd.jupyter.widget-state+json": {
    "state": {},
    "version_major": 2,
    "version_minor": 0
   }
  }
 },
 "nbformat": 4,
 "nbformat_minor": 5
}
